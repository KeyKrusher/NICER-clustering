{
 "cells": [
  {
   "attachments": {},
   "cell_type": "markdown",
   "id": "a50fc2d3-ce87-480f-b105-7074d408deb1",
   "metadata": {},
   "source": [
    "- using heasoft `heasoft-6.31.1 on sciserver`"
   ]
  },
  {
   "cell_type": "code",
   "execution_count": null,
   "id": "2f1287d3-6e07-49a1-b636-b3be052f4df0",
   "metadata": {},
   "outputs": [],
   "source": [
    "from helpers import *\n",
    "%load_ext autoreload\n",
    "%autoreload 2"
   ]
  },
  {
   "cell_type": "code",
   "execution_count": null,
   "id": "03559e7f-1cc8-4c00-82d5-3aac046881a7",
   "metadata": {},
   "outputs": [],
   "source": [
    "# set some variable\n",
    "wdir = '/home/idies/workspace/Temporary/jaclar15/scratch/nicer'\n",
    "data_dir = 'data'\n",
    "spec_dir = 'spec'\n"
   ]
  },
  {
   "cell_type": "code",
   "execution_count": null,
   "id": "fe952473-7fbd-49f4-9274-40a9524ec08f",
   "metadata": {},
   "outputs": [],
   "source": [
    "os.chdir(wdir)\n",
    "src_dir = f'{wdir}/{data_dir}'\n",
    "\n",
    "obsdirs = [l.strip() for l in open('obsids2.txt').readlines()]\n",
    "obsids = [o.split('/')[-2 if o[-1]=='/' else -1] for o in obsdirs]\n",
    "#obsids = [o[(len(src_dir)+1):] for o in glob.glob(f'/??????????')]\n",
    "print(f'There are {len(obsids)} observations')\n",
    "print(', '.join(obsids))"
   ]
  },
  {
   "cell_type": "code",
   "execution_count": null,
   "id": "566251fe-9e9c-4afe-8fb0-3dfded801a44",
   "metadata": {},
   "outputs": [],
   "source": [
    "# copy data\n",
    "os.system(f'mkdir -p {src_dir}')\n",
    "os.chdir(src_dir)\n",
    "for o in obsdirs:\n",
    "    if not os.path.exists(o.split('/')[-2]):\n",
    "        os.system(f'cp -r {o} .')"
   ]
  },
  {
   "cell_type": "code",
   "execution_count": null,
   "id": "86fe27ae-3bd6-4081-bf9f-152044b8dc4f",
   "metadata": {},
   "outputs": [],
   "source": [
    "# add geomagnetic data\n",
    "os.environ['GEOMAG_PATH'] = src_dir + '/geomag'\n",
    "os.environ['HEADASNOQUERY'] = ''\n",
    "os.environ['HEADASPROMPT'] = '/dev/null'\n",
    "if not os.path.exists(os.environ['GEOMAG_PATH']):\n",
    "    subprocess.call(['nigeodown'], env=os.environ)"
   ]
  },
  {
   "cell_type": "code",
   "execution_count": null,
   "id": "5afac10c-00b9-45fe-ad04-a677a6423b71",
   "metadata": {
    "scrolled": true,
    "tags": []
   },
   "outputs": [],
   "source": [
    "# process the data; run in parallel\n",
    "os.chdir(src_dir)\n",
    "process_nicer_data(obsids, nproc=5, fresh=False)"
   ]
  },
  {
   "cell_type": "code",
   "execution_count": null,
   "id": "86a05bfa-feba-428a-93c6-30d3ee7c5129",
   "metadata": {
    "scrolled": true,
    "tags": []
   },
   "outputs": [],
   "source": [
    "\n",
    "pklDir = f'{src_dir}/pkl'\n",
    "os.system(f'mkdir -p {pklDir}')\n",
    "os.chdir(pklDir)\n",
    "\n",
    "# batch size so we don't do everything in one go\n",
    "size_limit = 100000\n",
    "\n",
    "\n",
    "# intervals for binning the PI axis\n",
    "pi_bins = [0, 10, 20, 30, 40, 50, 60, 70, 80, 100, 120, 150, 180, 210, \n",
    "           240, 300, 500, 750, 1000, 1100, 1200, 1400, 1501]\n",
    "npi = len(pi_bins) - 1\n",
    "pi_int = pd.IntervalIndex.from_breaks(pi_bins, closed='left')\n",
    "\n",
    "tBin = 1 # Time bin value\n",
    "\n",
    "# loop through obsids\n",
    "spec = None\n",
    "for iobs, obsid in enumerate(obsids):\n",
    "    \n",
    "    # do the work only if we haven't done it yet, \n",
    "    # i.e. when the pkl file does not exist\n",
    "    pkl_file = f'spec.{obsid}.pkl'\n",
    "    if not os.path.exists(pkl_file):\n",
    "        \n",
    "        # read the event file: a time-ordered list of events\n",
    "        evtfile = f'../{obsid}/xti/event_cl/ni{obsid}_0mpu7_cl.evt'\n",
    "        with fits.open(evtfile) as fp:\n",
    "            tbl = Table(fp[1].data)\n",
    "            timezero = fp[1].header['timezero']\n",
    "        names = ['TIME', 'PI']\n",
    "        tbl = tbl[names].to_pandas()\n",
    "        tbl.TIME += timezero\n",
    "        \n",
    "        \n",
    "        # extract a raw light curve so we get the good time intervals\n",
    "        o = hsp.niextlc(infile=evtfile, outfile=f'tmp_{obsid}.lc', timebin=tBin, \n",
    "                    lcthresh=1.0, pirange=\"30:800\", clobber=True)\n",
    "        if o.returncode != 0:\n",
    "            print(''.join(o.out))\n",
    "            raise ValueError('niexlc failed')\n",
    "\n",
    "        # read light curve\n",
    "        with fits.open(f'tmp_{obsid}.lc') as fp:\n",
    "            lc = Table(fp[1].data).to_pandas()\n",
    "            t0 = fp[1].header['timezero']\n",
    "        lc.TIME += t0\n",
    "        \n",
    "        # print how much data we are dealing with\n",
    "        print(f'{obsid}: events-> {tbl.shape}, lc-> {len(lc)}')\n",
    "        \n",
    "        \n",
    "        # construct a pandas time interval so we can use it with groupby\n",
    "        # to construct a 2d histrogram of time or pi\n",
    "        time_int = pd.IntervalIndex.from_arrays(lc.TIME-tBin/2, \n",
    "                                                lc.TIME+tBin/2, closed='left')\n",
    "\n",
    "        # main part of counting events\n",
    "        tbl2 = tbl.TIME.groupby([pd.cut(tbl.TIME, bins=time_int), \n",
    "                                 pd.cut(tbl.PI, bins=pi_int )]).count()\n",
    "        # reshape it so it has axis (time, PI)\n",
    "        this_spec = pd.DataFrame(tbl2.values.reshape(-1,npi), \n",
    "                                 index=lc.TIME, columns=pi_int.left)\n",
    "        if spec is None:\n",
    "            spec = this_spec\n",
    "        else:\n",
    "            spec = pd.concat([spec, this_spec])\n",
    "                    "
   ]
  },
  {
   "cell_type": "code",
   "execution_count": null,
   "id": "46f23a03-ee7b-4a66-ba4c-c03fe8954c0e",
   "metadata": {},
   "outputs": [],
   "source": [
    "spec"
   ]
  },
  {
   "cell_type": "code",
   "execution_count": null,
   "id": "6100e18d-f24e-4d55-9ddd-e3d05faeb179",
   "metadata": {},
   "outputs": [],
   "source": [
    "spec.to_csv('spectra.csv')"
   ]
  },
  {
   "cell_type": "code",
   "execution_count": null,
   "id": "8cc412e8-f543-48fd-ab44-3943834284f2",
   "metadata": {},
   "outputs": [],
   "source": [
    "!pwd"
   ]
  }
 ],
 "metadata": {
  "kernelspec": {
   "display_name": "(heasoft)",
   "language": "python",
   "name": "heasoft"
  },
  "language_info": {
   "codemirror_mode": {
    "name": "ipython",
    "version": 3
   },
   "file_extension": ".py",
   "mimetype": "text/x-python",
   "name": "python",
   "nbconvert_exporter": "python",
   "pygments_lexer": "ipython3",
   "version": "3.9.15"
  }
 },
 "nbformat": 4,
 "nbformat_minor": 5
}
