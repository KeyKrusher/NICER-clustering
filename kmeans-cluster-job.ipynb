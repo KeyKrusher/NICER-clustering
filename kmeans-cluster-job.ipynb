{
 "cells": [
  {
   "attachments": {},
   "cell_type": "markdown",
   "id": "7dd2ca7d-79df-4df0-b3a0-f5a9c5f18ab8",
   "metadata": {},
   "source": [
    "## KMeans"
   ]
  },
  {
   "cell_type": "code",
   "execution_count": null,
   "id": "b15b8acb-52d5-4945-a763-c7203ed23dd5",
   "metadata": {},
   "outputs": [],
   "source": [
    "import pandas as pd\n",
    "import matplotlib.pyplot as plt\n",
    "import numpy as np\n",
    "from sklearn.cluster import MiniBatchKMeans"
   ]
  },
  {
   "cell_type": "code",
   "execution_count": null,
   "id": "9dc2b504-853a-4291-97a6-3ed5431dd62c",
   "metadata": {},
   "outputs": [],
   "source": [
    "df = pd.read_csv('spectra.csv')\n",
    "df = df.sort_values(by='TIME', ascending=True)\n",
    "df.TIME = df.TIME - df.TIME.iloc[0]\n",
    "df.TIME = pd.to_numeric(df.TIME, downcast='integer')\n",
    "df = df.set_index('TIME')\n",
    "df.columns = pd.to_numeric(df.columns, downcast='integer')"
   ]
  },
  {
   "cell_type": "code",
   "execution_count": null,
   "id": "511f1165-653c-4df1-a7e7-4ae27fd5af46",
   "metadata": {
    "tags": []
   },
   "outputs": [],
   "source": [
    "# Define cluster numbers to try\n",
    "# n_clusters = np.arange(3, 10, 1)\n",
    "# n_clusters = np.arange(3, 5, 1)\n",
    "n_clusters = np.array([4, 5])\n",
    "\n",
    "# Fit and plot agglomerative clustering for each cluster number\n",
    "fig, axs = plt.subplots(1, len(n_clusters), figsize=(25, 5))\n",
    "for i, n in enumerate(n_clusters):\n",
    "    kmeans = MiniBatchKMeans(n_clusters=n, batch_size=10_000, max_iter=100)\n",
    "    y_pred = kmeans.fit_predict(df)\n",
    "    for column in df.columns:\n",
    "        axs[i].scatter(np.full(df[column].shape[0], column), df[column], c=y_pred, s=1)\n",
    "        axs[i].set_title(f'{n} clusters')\n",
    "    break\n",
    "\n",
    "fig.savefig('kmeans-comparison-job.jpeg')"
   ]
  },
  {
   "attachments": {},
   "cell_type": "markdown",
   "id": "52b4ce6f-4fc5-4a19-b82a-f1a97f8da054",
   "metadata": {},
   "source": [
    "## Using pandas groupby with mean cluster values"
   ]
  },
  {
   "cell_type": "code",
   "execution_count": null,
   "id": "6363e4a0-6bcf-46d3-af45-0efcac594b7d",
   "metadata": {},
   "outputs": [],
   "source": [
    "# Define cluster numbers to try\n",
    "# n_clusters = np.arange(3, 10, 1)\n",
    "# n_clusters = np.arange(3, 5, 1)\n",
    "# n_clusters = np.array([4, 5])\n",
    "n_clusters = np.arange(4, 20, 4)\n",
    "\n",
    "# Fit and plot agglomerative clustering for each cluster number\n",
    "for i, n in enumerate(n_clusters):\n",
    "    kmeans = MiniBatchKMeans(n_clusters=n, batch_size=10_000, max_iter=100)\n",
    "    y_pred = kmeans.fit_predict(df)\n",
    "    axes = df.groupby(y_pred).agg('mean').T.plot()\n",
    "    axes.set_yscale('log')\n",
    "    axes.set_xscale('log')\n",
    "    axes.set_xlabel('log PI')\n",
    "    axes.set_ylabel('log mean counts')\n",
    "    axes.set_title(f'{n} clusters')\n",
    "axes"
   ]
  }
 ],
 "metadata": {
  "kernelspec": {
   "display_name": "(heasoft)",
   "language": "python",
   "name": "heasoft"
  },
  "language_info": {
   "codemirror_mode": {
    "name": "ipython",
    "version": 3
   },
   "file_extension": ".py",
   "mimetype": "text/x-python",
   "name": "python",
   "nbconvert_exporter": "python",
   "pygments_lexer": "ipython3",
   "version": "3.9.15"
  }
 },
 "nbformat": 4,
 "nbformat_minor": 5
}
