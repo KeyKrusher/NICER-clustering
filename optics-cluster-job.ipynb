{
 "cells": [
  {
   "attachments": {},
   "cell_type": "markdown",
   "id": "e51c6ab4-d92a-47df-8fa8-92da97b61438",
   "metadata": {},
   "source": [
    "## OPTICS"
   ]
  },
  {
   "cell_type": "code",
   "execution_count": 1,
   "id": "e38d1048-0612-4ce4-bf0f-2ee7fa924fef",
   "metadata": {},
   "outputs": [],
   "source": [
    "import pandas as pd\n",
    "import matplotlib.pyplot as plt\n",
    "import numpy as np\n",
    "from sklearn.cluster import OPTICS"
   ]
  },
  {
   "cell_type": "code",
   "execution_count": 2,
   "id": "ca33b5d5-6fa7-4340-a138-53f72b25409d",
   "metadata": {},
   "outputs": [],
   "source": [
    "df = pd.read_csv('/home/idies/workspace/Temporary/jaclar15/scratch/nicer/spectra2.csv')\n",
    "df = df.sort_values(by='TIME', ascending=True)\n",
    "df.TIME = df.TIME - df.TIME.iloc[0]\n",
    "df = df.set_index('TIME')\n",
    "# df = df.transpose()\n",
    "df.columns = pd.to_numeric(df.columns, downcast='integer')"
   ]
  },
  {
   "cell_type": "code",
   "execution_count": null,
   "id": "ad254d4f-7c3b-40e3-956c-c8314a7b2577",
   "metadata": {},
   "outputs": [],
   "source": [
    "# Define xi and eps values to try\n",
    "xi_values = [0.01, 0.05, 0.1, 0.5, 1]\n",
    "eps_values = [0.1, 0.5, 1, 2, 4]\n",
    "\n",
    "# Fit and plot OPTICS clustering for each combination of xi and eps\n",
    "fig, axs = plt.subplots(len(xi_values), len(eps_values), figsize=(15, 15))\n",
    "for i, xi in enumerate(xi_values):\n",
    "    for j, eps in enumerate(eps_values):\n",
    "        optics = OPTICS(min_samples=1000, xi=xi, eps=eps)\n",
    "        y_pred = optics.fit_predict(df)\n",
    "        axs[i] = df.groupby(y_pred).agg('mean').T.plot()\n",
    "        axs[i].set_yscale('log')\n",
    "        axs[i].set_xscale('log')\n",
    "        axs[i].set_xlabel('log PI')\n",
    "        axs[i].set_ylabel('log mean counts')\n",
    "        axs[i].set_title(f'{n} clusters xi={xi} eps={eps}')\n",
    "        \n",
    "fig.savefig('optics-comparison-job.jpeg')"
   ]
  }
 ],
 "metadata": {
  "kernelspec": {
   "display_name": "(heasoft)",
   "language": "python",
   "name": "heasoft"
  },
  "language_info": {
   "codemirror_mode": {
    "name": "ipython",
    "version": 3
   },
   "file_extension": ".py",
   "mimetype": "text/x-python",
   "name": "python",
   "nbconvert_exporter": "python",
   "pygments_lexer": "ipython3",
   "version": "3.9.15"
  }
 },
 "nbformat": 4,
 "nbformat_minor": 5
}
