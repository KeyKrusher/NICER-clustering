{
 "cells": [
  {
   "attachments": {},
   "cell_type": "markdown",
   "id": "6642fb99-c301-4276-b548-3825dcbca525",
   "metadata": {},
   "source": [
    "### Notes:\n",
    "This notebook uses pairwise_distances_chunked and BallTree to batch compute distances for later use in the hdbscan model."
   ]
  },
  {
   "cell_type": "code",
   "execution_count": null,
   "id": "dbd31533-d95e-4f1d-ad62-59240ae53629",
   "metadata": {},
   "outputs": [],
   "source": [
    "import pandas as pd\n",
    "import numpy as np\n",
    "from joblib import dump, load\n",
    "from sklearn.model_selection import train_test_split\n",
    "from sklearn.metrics import pairwise_distances_chunked\n",
    "from sklearn.neighbors import BallTree\n",
    "from scipy.sparse import csr_matrix, save_npz"
   ]
  },
  {
   "cell_type": "code",
   "execution_count": null,
   "id": "e9878af3-5068-4a59-9151-649e0292378f",
   "metadata": {},
   "outputs": [],
   "source": [
    "df = pd.read_csv('spectra.csv')\n",
    "df = df.sort_values(by='TIME', ascending=True)\n",
    "df.TIME = df.TIME - df.TIME.iloc[0]\n",
    "df.TIME = pd.to_numeric(df.TIME, downcast='integer')\n",
    "df = df.set_index('TIME')\n",
    "df.columns = pd.to_numeric(df.columns, downcast='integer')"
   ]
  },
  {
   "cell_type": "code",
   "execution_count": null,
   "id": "b1d03be1-eb52-4496-8e58-2634f2e44089",
   "metadata": {},
   "outputs": [],
   "source": [
    "# Split the dataset into a training set (80%) and a testing set (20%)\n",
    "train_df, test_df = train_test_split(df, test_size=0.2, random_state=42)"
   ]
  },
  {
   "cell_type": "code",
   "execution_count": null,
   "id": "fb17025c-7506-4569-8978-a294d64cb375",
   "metadata": {},
   "outputs": [],
   "source": [
    "# Compute the pairwise Euclidean distances in chunks\n",
    "chunk_size = 1000\n",
    "n_chunks = int(np.ceil(train_df.shape[0] / chunk_size))\n",
    "save_interval = 10000\n",
    "\n",
    "# Create BallTree for faster distance calculation\n",
    "tree = BallTree(train_df, leaf_size=40)\n",
    "\n",
    "# Compute the pairwise Euclidean distances in chunks\n",
    "for i in range(n_chunks):\n",
    "    start_idx = i * chunk_size\n",
    "    if start_idx > 38_000: # Use if statement to start at the end of the last job\n",
    "        end_idx = min((i + 1) * chunk_size, train_df.shape[0])\n",
    "        distances, _ = tree.query(train_df.iloc[start_idx:end_idx], k=train_df.shape[0]-1, return_distance=True)\n",
    "        distance_chunk = csr_matrix(distances)\n",
    "\n",
    "        # Save the distance matrix chunk to disk\n",
    "        save_npz(f'distance_matrix_chunk_{start_idx + 1}-{end_idx}.npz', distance_chunk)\n",
    "\n",
    "        # Check if it's time to save the next file\n",
    "        if (start_idx + chunk_size) % save_interval == 0 or end_idx == train_df.shape[0]:\n",
    "            print(f\"Saved distance matrix chunk for observations {start_idx + 1}-{end_idx}\")"
   ]
  }
 ],
 "metadata": {
  "kernelspec": {
   "display_name": "(heasoft)",
   "language": "python",
   "name": "heasoft"
  },
  "language_info": {
   "codemirror_mode": {
    "name": "ipython",
    "version": 3
   },
   "file_extension": ".py",
   "mimetype": "text/x-python",
   "name": "python",
   "nbconvert_exporter": "python",
   "pygments_lexer": "ipython3",
   "version": "3.9.15"
  }
 },
 "nbformat": 4,
 "nbformat_minor": 5
}
