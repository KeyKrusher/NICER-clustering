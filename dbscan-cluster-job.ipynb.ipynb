{
 "cells": [
  {
   "cell_type": "markdown",
   "id": "5d8cdabd-e560-4ceb-80cf-5546281ab85f",
   "metadata": {},
   "source": [
    "## DBSCAN"
   ]
  },
  {
   "cell_type": "code",
   "execution_count": 5,
   "id": "f63cc135-c641-4de2-9f26-9cde955ebc89",
   "metadata": {},
   "outputs": [],
   "source": [
    "import pandas as pd\n",
    "import matplotlib.pyplot as plt\n",
    "import numpy as np\n",
    "from sklearn.cluster import DBSCAN\n",
    "from joblib import dump, load\n",
    "from sklearn.model_selection import train_test_split"
   ]
  },
  {
   "cell_type": "code",
   "execution_count": 6,
   "id": "5a8495be-c6da-4084-87ed-7d309bafc2c7",
   "metadata": {},
   "outputs": [],
   "source": [
    "df = pd.read_csv('/home/idies/workspace/Temporary/jaclar15/scratch/nicer/spectra2.csv')\n",
    "df = df.sort_values(by='TIME', ascending=True)\n",
    "df.TIME = df.TIME - df.TIME.iloc[0]\n",
    "df = df.set_index('TIME')\n",
    "df.columns = pd.to_numeric(df.columns, downcast='integer')"
   ]
  },
  {
   "cell_type": "code",
   "execution_count": null,
   "id": "2fc736d7-52ff-4a0a-bd4e-03c07e236832",
   "metadata": {},
   "outputs": [],
   "source": [
    "# Split the dataset into a training set (80%) and a testing set (20%)\n",
    "train_df, test_df = train_test_split(df, test_size=0.2, random_state=42)"
   ]
  },
  {
   "cell_type": "code",
   "execution_count": null,
   "id": "673164df-9819-4c95-baef-e5c1141d1265",
   "metadata": {},
   "outputs": [],
   "source": [
    "# Define eps values to try\n",
    "# eps_values = [0.1, 0.5, 1, 2, 4]\n",
    "eps_values = [0.5]\n",
    "\n",
    "# Fit and plot DBSCAN clustering for each eps value\n",
    "fig, axs = plt.subplots(1, len(eps_values), figsize=(25, 5))\n",
    "for i, eps in enumerate(eps_values):\n",
    "    dbscan = DBSCAN(eps=eps, n_jobs=-1)\n",
    "    # dump to a pickle file\n",
    "    dump(dbscan, open('untrained_dbscan_cluster-job.joblib', 'wb'))\n",
    "    y_pred = dbscan.fit_predict(train_df)\n",
    "    # dump to a pickle file\n",
    "    dump(y_pred, open('trained_dbscan_cluster-job.joblib', 'wb'))\n",
    "    cluster_std = test_df.groupby(y_pred).agg(np.std)\n",
    "    df.groupby(y_pred).agg('mean').T.plot(ax=axs[i], yerr=cluster_std.T)  # Pass the 'Axes' object to the 'plot' function\n",
    "    axs[i].set_yscale('log')\n",
    "    axs[i].set_xscale('log')\n",
    "    axs[i].set_xlabel('log PI')\n",
    "    axs[i].set_ylabel('log mean counts')\n",
    "    axs[i].set_title(f'eps: {eps}')\n",
    "\n",
    "fig.savefig('dbscan-comparison-job.jpeg')"
   ]
  }
 ],
 "metadata": {
  "kernelspec": {
   "display_name": "(heasoft)",
   "language": "python",
   "name": "heasoft"
  },
  "language_info": {
   "codemirror_mode": {
    "name": "ipython",
    "version": 3
   },
   "file_extension": ".py",
   "mimetype": "text/x-python",
   "name": "python",
   "nbconvert_exporter": "python",
   "pygments_lexer": "ipython3",
   "version": "3.9.15"
  }
 },
 "nbformat": 4,
 "nbformat_minor": 5
}
