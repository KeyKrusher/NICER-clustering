{
 "cells": [
  {
   "attachments": {},
   "cell_type": "markdown",
   "id": "2b2747ef-6df0-4457-8ac0-0bb3c7d2d965",
   "metadata": {},
   "source": [
    "## Agglomerative Clustering"
   ]
  },
  {
   "cell_type": "code",
   "execution_count": null,
   "id": "d9d9ab06-763e-4a05-a31d-322a4a338ea7",
   "metadata": {},
   "outputs": [],
   "source": [
    "import pandas as pd\n",
    "import matplotlib.pyplot as plt\n",
    "import numpy as np\n",
    "from sklearn.cluster import AgglomerativeClustering"
   ]
  },
  {
   "cell_type": "code",
   "execution_count": null,
   "id": "55e457a6-6619-4759-9440-8a599d651829",
   "metadata": {},
   "outputs": [],
   "source": [
    "df = pd.read_csv('/home/idies/workspace/Temporary/jaclar15/scratch/nicer/spectra2.csv')\n",
    "df = df.sort_values(by='TIME', ascending=True)\n",
    "df.TIME = df.TIME - df.TIME.iloc[0]\n",
    "df = df.set_index('TIME')\n",
    "df.columns = pd.to_numeric(df.columns, downcast='integer')"
   ]
  },
  {
   "cell_type": "code",
   "execution_count": null,
   "id": "f09b8313-86c8-4f16-87e5-aa56d3bf2ca1",
   "metadata": {},
   "outputs": [],
   "source": [
    "# Define cluster numbers to try\n",
    "n_clusters = np.arange(2, 4, 1)\n",
    "\n",
    "# Fit and plot agglomerative clustering for each cluster number\n",
    "# fig, axs = plt.subplots(1, len(n_clusters), figsize=(25, 5))\n",
    "for i, n in enumerate(n_clusters):\n",
    "    clustering = AgglomerativeClustering(n_clusters=n)\n",
    "    y_pred = clustering.fit_predict(df)\n",
    "    axes = df.groupby(y_pred).agg('mean').T.plot()\n",
    "    axes.set_yscale('log')\n",
    "    axes.set_xscale('log')\n",
    "    axes.set_xlabel('log PI')\n",
    "    axes.set_ylabel('log mean counts')\n",
    "    axes.set_title(f'{n} clusters')\n",
    "axes"
   ]
  }
 ],
 "metadata": {
  "kernelspec": {
   "display_name": "(heasoft)",
   "language": "python",
   "name": "heasoft"
  },
  "language_info": {
   "codemirror_mode": {
    "name": "ipython",
    "version": 3
   },
   "file_extension": ".py",
   "mimetype": "text/x-python",
   "name": "python",
   "nbconvert_exporter": "python",
   "pygments_lexer": "ipython3",
   "version": "3.9.15"
  }
 },
 "nbformat": 4,
 "nbformat_minor": 5
}
